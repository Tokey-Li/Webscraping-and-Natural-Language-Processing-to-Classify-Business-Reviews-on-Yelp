{
 "cells": [
  {
   "cell_type": "code",
   "execution_count": 1,
   "metadata": {},
   "outputs": [],
   "source": [
    "YELP_TOKEN = \"KCnsvsZnQ34GkM5cGvGH-ntoqkvo9xEJqib6Jl0b6cRfnItmf5xNT_6s03_QOONYJ5ZnSS3pc5jQV084lVAlkJaROBwVPJQebgkAwGyV2EwlqquykzPBJQJWFS0FXnYx\""
   ]
  },
  {
   "cell_type": "code",
   "execution_count": 2,
   "metadata": {},
   "outputs": [],
   "source": [
    "import requests\n",
    "import json\n",
    "\n",
    "import matplotlib.pyplot as plt\n",
    "import numpy as np\n",
    "\n",
    "import random\n",
    "from pprint import pprint"
   ]
  },
  {
   "cell_type": "code",
   "execution_count": 3,
   "metadata": {},
   "outputs": [],
   "source": [
    "MyList=[0,0,0,0,0,0,0,0,0,0]\n",
    "for i in range(1,10):\n",
    "    MyList[i]=50*i"
   ]
  },
  {
   "cell_type": "code",
   "execution_count": 4,
   "metadata": {},
   "outputs": [
    {
     "data": {
      "text/plain": [
       "[0, 50, 100, 150, 200, 250, 300, 350, 400, 450]"
      ]
     },
     "execution_count": 4,
     "metadata": {},
     "output_type": "execute_result"
    }
   ],
   "source": [
    "MyList"
   ]
  },
  {
   "cell_type": "code",
   "execution_count": 5,
   "metadata": {},
   "outputs": [],
   "source": [
    "# since each request only return 50 records as limit, I used foor loop to get 500 records by setting different offsets and adding them together\n",
    "All=[]\n",
    "for k in MyList:\n",
    "    r = requests.get(\"https://api.yelp.com/v3/businesses/search?location=Toronto&limit=50&offset=%s\"%k, headers={\"Authorization\": \"Bearer %s\" % YELP_TOKEN})\n",
    "    All=r.json()[\"businesses\"]+All"
   ]
  },
  {
   "cell_type": "code",
   "execution_count": 6,
   "metadata": {},
   "outputs": [
    {
     "data": {
      "text/plain": [
       "{'id': 'WRPlRsDK47DFl3dz65zhYg',\n",
       " 'alias': 'pinkys-ca-phe-toronto',\n",
       " 'name': \"Pinky's Ca Phe\",\n",
       " 'image_url': 'https://s3-media4.fl.yelpcdn.com/bphoto/CKW6HMtg2AtdKJdlI4anrw/o.jpg',\n",
       " 'is_closed': False,\n",
       " 'url': 'https://www.yelp.com/biz/pinkys-ca-phe-toronto?adjust_creative=Xo8qggBLM36q8rVxw-LcNw&utm_campaign=yelp_api_v3&utm_medium=api_v3_business_search&utm_source=Xo8qggBLM36q8rVxw-LcNw',\n",
       " 'review_count': 144,\n",
       " 'categories': [{'alias': 'vietnamese', 'title': 'Vietnamese'}],\n",
       " 'rating': 4.0,\n",
       " 'coordinates': {'latitude': 43.6557045377745, 'longitude': -79.4138196639558},\n",
       " 'transactions': [],\n",
       " 'price': '$$',\n",
       " 'location': {'address1': '53 Clinton Street',\n",
       "  'address2': '',\n",
       "  'address3': None,\n",
       "  'city': 'Toronto',\n",
       "  'zip_code': 'M6G 2Y4',\n",
       "  'country': 'CA',\n",
       "  'state': 'ON',\n",
       "  'display_address': ['53 Clinton Street', 'Toronto, ON M6G 2Y4', 'Canada']},\n",
       " 'phone': '',\n",
       " 'display_phone': '',\n",
       " 'distance': 2477.2872552193535}"
      ]
     },
     "execution_count": 6,
     "metadata": {},
     "output_type": "execute_result"
    }
   ],
   "source": [
    "All[0]"
   ]
  },
  {
   "cell_type": "code",
   "execution_count": 8,
   "metadata": {},
   "outputs": [],
   "source": [
    "review_labels = []\n",
    "for business in All:\n",
    "    reviews = requests.get(\"https://api.yelp.com/v3/businesses/%s/reviews\" % business['id'], headers={\"Authorization\": \"Bearer %s\" % YELP_TOKEN}).json()\n",
    "    for review in reviews['reviews']:\n",
    "        review_labels.append((review['text'].rstrip('.'), review['rating']))"
   ]
  },
  {
   "cell_type": "code",
   "execution_count": 105,
   "metadata": {},
   "outputs": [
    {
     "data": {
      "text/plain": [
       "<BarContainer object of 5 artists>"
      ]
     },
     "execution_count": 105,
     "metadata": {},
     "output_type": "execute_result"
    },
    {
     "data": {
      "image/png": "[encoded data removed]",
      "text/plain": [
       "<Figure size 432x288 with 1 Axes>"
      ]
     },
     "metadata": {
      "needs_background": "light"
     },
     "output_type": "display_data"
    }
   ],
   "source": [
    "from collections import defaultdict\n",
    "\n",
    "c = defaultdict(int)\n",
    "for x in review_labels:\n",
    "    c[x[1]] += 1\n",
    "\n",
    "plt.bar(c.keys(), c.values())"
   ]
  },
  {
   "cell_type": "code",
   "execution_count": 41,
   "metadata": {},
   "outputs": [],
   "source": [
    "# From the rating distribution, in order to reduce the skew of negative and positive, I set rating=5 as positive and otherwise is negative\n",
    "review_features = [(x.split(' '), 'positive' if y > 4 else 'negative') for (x, y) in review_labels]"
   ]
  },
  {
   "cell_type": "code",
   "execution_count": 42,
   "metadata": {},
   "outputs": [
    {
     "name": "stdout",
     "output_type": "stream",
     "text": [
      "Training: 1200, Testing: 300\n"
     ]
    }
   ],
   "source": [
    "from nltk.sentiment import SentimentAnalyzer\n",
    "import nltk.sentiment.util\n",
    "from nltk.classify import NaiveBayesClassifier\n",
    "\n",
    "random.shuffle(review_features)\n",
    "training_docs = review_features[:1200]\n",
    "test_docs = review_features[1200:]\n",
    "\n",
    "print(\"Training: %d, Testing: %d\" % (len(training_docs), len(test_docs)))\n",
    "\n",
    "sentim_analyzer = SentimentAnalyzer()"
   ]
  },
  {
   "cell_type": "code",
   "execution_count": 43,
   "metadata": {},
   "outputs": [],
   "source": [
    "all_words_neg = sentim_analyzer.all_words([nltk.sentiment.util.mark_negation(doc) for doc in training_docs])"
   ]
  },
  {
   "cell_type": "code",
   "execution_count": 76,
   "metadata": {},
   "outputs": [],
   "source": [
    "#Using NaiveBayesClassifier\n",
    "# when min_freq 2, I observed the highest F-measure by NaiveBayesClassifier\n",
    "unigram_feats = sentim_analyzer.unigram_word_feats(all_words_neg, min_freq=2)\n",
    "sentim_analyzer.add_feat_extractor(nltk.sentiment.util.extract_unigram_feats, unigrams=unigram_feats)"
   ]
  },
  {
   "cell_type": "code",
   "execution_count": 77,
   "metadata": {},
   "outputs": [],
   "source": [
    "training_set = sentim_analyzer.apply_features(training_docs)\n",
    "test_set = sentim_analyzer.apply_features(test_docs)"
   ]
  },
  {
   "cell_type": "code",
   "execution_count": 78,
   "metadata": {},
   "outputs": [
    {
     "name": "stdout",
     "output_type": "stream",
     "text": [
      "Training classifier\n",
      "Evaluating NaiveBayesClassifier results...\n",
      "Accuracy: 0.6433333333333333\n",
      "F-measure [negative]: 0.6934097421203439\n",
      "F-measure [positive]: 0.5737051792828686\n",
      "Precision [negative]: 0.6759776536312849\n",
      "Precision [positive]: 0.5950413223140496\n",
      "Recall [negative]: 0.711764705882353\n",
      "Recall [positive]: 0.5538461538461539\n"
     ]
    }
   ],
   "source": [
    "trainer = NaiveBayesClassifier.train\n",
    "classifier = sentim_analyzer.train(trainer, training_set)\n",
    "for key,value in sorted(sentim_analyzer.evaluate(test_set).items()):\n",
    "     print('{0}: {1}'.format(key, value))"
   ]
  },
  {
   "cell_type": "code",
   "execution_count": 97,
   "metadata": {},
   "outputs": [],
   "source": []
  },
  {
   "cell_type": "code",
   "execution_count": 109,
   "metadata": {},
   "outputs": [],
   "source": []
  },
  {
   "cell_type": "code",
   "execution_count": null,
   "metadata": {},
   "outputs": [],
   "source": [
    "classifier2 = sentim_analyzer.train(trainer2(training_set,entropy_cutoff=0.4,support_cutoff=0.4), training_set)\n",
    "for key,value in sorted(sentim_analyzer.evaluate(test_set).items()):\n",
    "     print('{0}: {1}'.format(key, value))"
   ]
  },
  {
   "cell_type": "code",
   "execution_count": null,
   "metadata": {},
   "outputs": [],
   "source": []
  }
 ],
 "metadata": {
  "kernelspec": {
   "display_name": "Python 3",
   "language": "python",
   "name": "python3"
  },
  "language_info": {
   "codemirror_mode": {
    "name": "ipython",
    "version": 3
   },
   "file_extension": ".py",
   "mimetype": "text/x-python",
   "name": "python",
   "nbconvert_exporter": "python",
   "pygments_lexer": "ipython3",
   "version": "3.6.8"
  }
 },
 "nbformat": 4,
 "nbformat_minor": 2
}
